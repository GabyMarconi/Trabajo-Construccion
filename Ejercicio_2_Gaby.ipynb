{
  "cells": [
    {
      "cell_type": "markdown",
      "source": [
        "# Modifique la aplicación para que en el ingreso de datos se ingrese un número entero caso contrario solicite un nuevo ingreso hasta que se cumpla con el requerimiento."
      ],
      "metadata": {
        "id": "SBjfbOs5COsC"
      }
    },
    {
      "cell_type": "markdown",
      "source": [
        "**Desarrollo del primer Ejercicio 2**"
      ],
      "metadata": {
        "id": "1-IdTDfGDJLS"
      }
    },
    {
      "cell_type": "code",
      "source": [
        "def calcular_mcd(a, b):\n",
        "    while b != 0:\n",
        "        a, b = b, a % b\n",
        "    return a\n",
        "\n",
        "def obtener_numero_entero(mensaje):\n",
        "    while True:\n",
        "        try:\n",
        "            num = int(input(mensaje))\n",
        "            return num\n",
        "        except ValueError:\n",
        "            print(\"Error, debes ingresar un número entero válido - Inténtalo de nuevo.\")\n",
        "\n",
        "def main():\n",
        "    print(\"Cálculo del Máximo Común Divisor\")\n",
        "    num1 = obtener_numero_entero(\"Ingrese el primer (Nro Entero): \")\n",
        "    num2 = obtener_numero_entero(\"Ingrese el segundo (Nro Entero): \")\n",
        "\n",
        "    mcd = calcular_mcd(abs(num1), abs(num2))\n",
        "    print(f\"El MCD de {num1} y {num2} es: {mcd}\")\n",
        "\n",
        "if __name__ == \"__main__\":\n",
        "    main()"
      ],
      "metadata": {
        "id": "X4HtqJ_WDTlx",
        "outputId": "20833521-d31a-4295-f1e9-176bb3bb8570",
        "colab": {
          "base_uri": "https://localhost:8080/"
        }
      },
      "execution_count": 4,
      "outputs": [
        {
          "output_type": "stream",
          "name": "stdout",
          "text": [
            "Cálculo del Máximo Común Divisor\n",
            "Ingrese el primer (Nro Entero): 2.6\n",
            "Error, debes ingresar un número entero válido - Inténtalo de nuevo.\n",
            "Ingrese el primer (Nro Entero): 12\n",
            "Ingrese el segundo (Nro Entero): 24\n",
            "El MCD de 12 y 24 es: 12\n"
          ]
        }
      ]
    }
  ],
  "metadata": {
    "colab": {
      "toc_visible": true,
      "provenance": []
    },
    "kernelspec": {
      "display_name": "Python 3",
      "name": "python3"
    }
  },
  "nbformat": 4,
  "nbformat_minor": 0
}