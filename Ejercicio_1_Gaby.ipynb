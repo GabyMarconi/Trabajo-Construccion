{
  "cells": [
    {
      "cell_type": "markdown",
      "source": [
        "# Implemente en Python el algoritmo que calcule el máximo común divisor de dos números naturales. Valide el ingreso de datos ."
      ],
      "metadata": {
        "id": "SBjfbOs5COsC"
      }
    },
    {
      "cell_type": "markdown",
      "source": [
        "**Desarrollo del primer Ejercicio 1**"
      ],
      "metadata": {
        "id": "1-IdTDfGDJLS"
      }
    },
    {
      "cell_type": "code",
      "source": [
        "def calcular_mcd(a, b):\n",
        "    while b != 0:\n",
        "        a, b = b, a % b\n",
        "    return a\n",
        "\n",
        "def obtener_numero_natural(mensaje):\n",
        "    while True:\n",
        "        try:\n",
        "            num = int(input(mensaje))\n",
        "            if num <= 0:\n",
        "                raise ValueError(\"El número debe ser natural > 0\")\n",
        "            return num\n",
        "        except ValueError as e:\n",
        "            print(f\"Error: {e}. Intenta de nuevo.\")\n",
        "\n",
        "def main():\n",
        "    print(\"Cálculo del Máximo Común Divisor \")\n",
        "    num1 = obtener_numero_natural(\"Ingrese el primer (Nro natural): \")\n",
        "    num2 = obtener_numero_natural(\"Ingrese el segundo (Nro natural): \")\n",
        "\n",
        "    mcd = calcular_mcd(num1, num2)\n",
        "    print(f\"El MCD de {num1} y {num2} es: {mcd}\")\n",
        "\n",
        "# Ejecutar el programa\n",
        "if __name__ == \"__main__\":\n",
        "    main()"
      ],
      "metadata": {
        "id": "X4HtqJ_WDTlx",
        "outputId": "0d69ee53-c87b-430f-cf82-7a9b1db7606f",
        "colab": {
          "base_uri": "https://localhost:8080/"
        }
      },
      "execution_count": 3,
      "outputs": [
        {
          "output_type": "stream",
          "name": "stdout",
          "text": [
            "Cálculo del Máximo Común Divisor \n",
            "Ingrese el primer (Nro natural): -5\n",
            "Error: El número debe ser natural > 0. Intenta de nuevo.\n",
            "Ingrese el primer (Nro natural): 8\n",
            "Ingrese el segundo (Nro natural): 6\n",
            "El MCD de 8 y 6 es: 2\n"
          ]
        }
      ]
    }
  ],
  "metadata": {
    "colab": {
      "toc_visible": true,
      "provenance": []
    },
    "kernelspec": {
      "display_name": "Python 3",
      "name": "python3"
    }
  },
  "nbformat": 4,
  "nbformat_minor": 0
}